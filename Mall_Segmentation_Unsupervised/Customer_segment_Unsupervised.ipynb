{
 "cells": [
  {
   "cell_type": "markdown",
   "metadata": {
    "id": "u3Z2fn-0ytU5"
   },
   "source": [
    "importing the Dependencies"
   ]
  },
  {
   "cell_type": "code",
   "execution_count": 2,
   "metadata": {
    "executionInfo": {
     "elapsed": 26,
     "status": "ok",
     "timestamp": 1673859245829,
     "user": {
      "displayName": "Tushar Patil",
      "userId": "09849807803327805394"
     },
     "user_tz": -330
    },
    "id": "fH5jKoTQDntf"
   },
   "outputs": [],
   "source": [
    "import pandas as pd\n",
    "import numpy as np\n",
    "import matplotlib.pyplot as plt\n",
    "import seaborn as sns\n",
    "#!pip install sweetviz\n",
    "import sweetviz as sv\n",
    "from sklearn.cluster import KMeans"
   ]
  },
  {
   "cell_type": "code",
   "execution_count": 3,
   "metadata": {
    "executionInfo": {
     "elapsed": 26,
     "status": "ok",
     "timestamp": 1673859245830,
     "user": {
      "displayName": "Tushar Patil",
      "userId": "09849807803327805394"
     },
     "user_tz": -330
    },
    "id": "3RznSMWOKQry"
   },
   "outputs": [],
   "source": [
    "df = pd.read_csv('Mall_Customers.csv')"
   ]
  },
  {
   "cell_type": "markdown",
   "metadata": {
    "id": "WI5ij_SrywAk"
   },
   "source": [
    "Statastical Analysis"
   ]
  },
  {
   "cell_type": "code",
   "execution_count": 4,
   "metadata": {
    "colab": {
     "base_uri": "https://localhost:8080/",
     "height": 206
    },
    "executionInfo": {
     "elapsed": 26,
     "status": "ok",
     "timestamp": 1673859245830,
     "user": {
      "displayName": "Tushar Patil",
      "userId": "09849807803327805394"
     },
     "user_tz": -330
    },
    "id": "1MhXW8G_KdSs",
    "outputId": "78e098c0-8ed9-42be-aabc-a71349ba584e"
   },
   "outputs": [
    {
     "data": {
      "text/html": [
       "<div>\n",
       "<style scoped>\n",
       "    .dataframe tbody tr th:only-of-type {\n",
       "        vertical-align: middle;\n",
       "    }\n",
       "\n",
       "    .dataframe tbody tr th {\n",
       "        vertical-align: top;\n",
       "    }\n",
       "\n",
       "    .dataframe thead th {\n",
       "        text-align: right;\n",
       "    }\n",
       "</style>\n",
       "<table border=\"1\" class=\"dataframe\">\n",
       "  <thead>\n",
       "    <tr style=\"text-align: right;\">\n",
       "      <th></th>\n",
       "      <th>CustomerID</th>\n",
       "      <th>Gender</th>\n",
       "      <th>Age</th>\n",
       "      <th>Annual Income (k$)</th>\n",
       "      <th>Spending Score (1-100)</th>\n",
       "    </tr>\n",
       "  </thead>\n",
       "  <tbody>\n",
       "    <tr>\n",
       "      <th>0</th>\n",
       "      <td>1</td>\n",
       "      <td>Male</td>\n",
       "      <td>19</td>\n",
       "      <td>15</td>\n",
       "      <td>39</td>\n",
       "    </tr>\n",
       "    <tr>\n",
       "      <th>1</th>\n",
       "      <td>2</td>\n",
       "      <td>Male</td>\n",
       "      <td>21</td>\n",
       "      <td>15</td>\n",
       "      <td>81</td>\n",
       "    </tr>\n",
       "    <tr>\n",
       "      <th>2</th>\n",
       "      <td>3</td>\n",
       "      <td>Female</td>\n",
       "      <td>20</td>\n",
       "      <td>16</td>\n",
       "      <td>6</td>\n",
       "    </tr>\n",
       "    <tr>\n",
       "      <th>3</th>\n",
       "      <td>4</td>\n",
       "      <td>Female</td>\n",
       "      <td>23</td>\n",
       "      <td>16</td>\n",
       "      <td>77</td>\n",
       "    </tr>\n",
       "    <tr>\n",
       "      <th>4</th>\n",
       "      <td>5</td>\n",
       "      <td>Female</td>\n",
       "      <td>31</td>\n",
       "      <td>17</td>\n",
       "      <td>40</td>\n",
       "    </tr>\n",
       "  </tbody>\n",
       "</table>\n",
       "</div>"
      ],
      "text/plain": [
       "   CustomerID  Gender  Age  Annual Income (k$)  Spending Score (1-100)\n",
       "0           1    Male   19                  15                      39\n",
       "1           2    Male   21                  15                      81\n",
       "2           3  Female   20                  16                       6\n",
       "3           4  Female   23                  16                      77\n",
       "4           5  Female   31                  17                      40"
      ]
     },
     "execution_count": 4,
     "metadata": {},
     "output_type": "execute_result"
    }
   ],
   "source": [
    "df.head()"
   ]
  },
  {
   "cell_type": "code",
   "execution_count": 5,
   "metadata": {
    "colab": {
     "base_uri": "https://localhost:8080/",
     "height": 206
    },
    "executionInfo": {
     "elapsed": 26,
     "status": "ok",
     "timestamp": 1673859245831,
     "user": {
      "displayName": "Tushar Patil",
      "userId": "09849807803327805394"
     },
     "user_tz": -330
    },
    "id": "_6AbvVJbKqmc",
    "outputId": "1494fc03-37e9-43fd-8071-f1d6e69c7133"
   },
   "outputs": [
    {
     "data": {
      "text/html": [
       "<div>\n",
       "<style scoped>\n",
       "    .dataframe tbody tr th:only-of-type {\n",
       "        vertical-align: middle;\n",
       "    }\n",
       "\n",
       "    .dataframe tbody tr th {\n",
       "        vertical-align: top;\n",
       "    }\n",
       "\n",
       "    .dataframe thead th {\n",
       "        text-align: right;\n",
       "    }\n",
       "</style>\n",
       "<table border=\"1\" class=\"dataframe\">\n",
       "  <thead>\n",
       "    <tr style=\"text-align: right;\">\n",
       "      <th></th>\n",
       "      <th>CustomerID</th>\n",
       "      <th>Gender</th>\n",
       "      <th>Age</th>\n",
       "      <th>Annual Income (k$)</th>\n",
       "      <th>Spending Score (1-100)</th>\n",
       "    </tr>\n",
       "  </thead>\n",
       "  <tbody>\n",
       "    <tr>\n",
       "      <th>195</th>\n",
       "      <td>196</td>\n",
       "      <td>Female</td>\n",
       "      <td>35</td>\n",
       "      <td>120</td>\n",
       "      <td>79</td>\n",
       "    </tr>\n",
       "    <tr>\n",
       "      <th>196</th>\n",
       "      <td>197</td>\n",
       "      <td>Female</td>\n",
       "      <td>45</td>\n",
       "      <td>126</td>\n",
       "      <td>28</td>\n",
       "    </tr>\n",
       "    <tr>\n",
       "      <th>197</th>\n",
       "      <td>198</td>\n",
       "      <td>Male</td>\n",
       "      <td>32</td>\n",
       "      <td>126</td>\n",
       "      <td>74</td>\n",
       "    </tr>\n",
       "    <tr>\n",
       "      <th>198</th>\n",
       "      <td>199</td>\n",
       "      <td>Male</td>\n",
       "      <td>32</td>\n",
       "      <td>137</td>\n",
       "      <td>18</td>\n",
       "    </tr>\n",
       "    <tr>\n",
       "      <th>199</th>\n",
       "      <td>200</td>\n",
       "      <td>Male</td>\n",
       "      <td>30</td>\n",
       "      <td>137</td>\n",
       "      <td>83</td>\n",
       "    </tr>\n",
       "  </tbody>\n",
       "</table>\n",
       "</div>"
      ],
      "text/plain": [
       "     CustomerID  Gender  Age  Annual Income (k$)  Spending Score (1-100)\n",
       "195         196  Female   35                 120                      79\n",
       "196         197  Female   45                 126                      28\n",
       "197         198    Male   32                 126                      74\n",
       "198         199    Male   32                 137                      18\n",
       "199         200    Male   30                 137                      83"
      ]
     },
     "execution_count": 5,
     "metadata": {},
     "output_type": "execute_result"
    }
   ],
   "source": [
    "df.tail()"
   ]
  },
  {
   "cell_type": "code",
   "execution_count": 6,
   "metadata": {
    "colab": {
     "base_uri": "https://localhost:8080/"
    },
    "executionInfo": {
     "elapsed": 26,
     "status": "ok",
     "timestamp": 1673859245832,
     "user": {
      "displayName": "Tushar Patil",
      "userId": "09849807803327805394"
     },
     "user_tz": -330
    },
    "id": "pK-JC0RWThsN",
    "outputId": "2c1c1a94-a879-4f7e-ddb8-0bae9d9dad19"
   },
   "outputs": [
    {
     "data": {
      "text/plain": [
       "(200, 5)"
      ]
     },
     "execution_count": 6,
     "metadata": {},
     "output_type": "execute_result"
    }
   ],
   "source": [
    "# Finding the number of rows and columns\n",
    "df.shape"
   ]
  },
  {
   "cell_type": "code",
   "execution_count": 7,
   "metadata": {
    "colab": {
     "base_uri": "https://localhost:8080/"
    },
    "executionInfo": {
     "elapsed": 23,
     "status": "ok",
     "timestamp": 1673859245832,
     "user": {
      "displayName": "Tushar Patil",
      "userId": "09849807803327805394"
     },
     "user_tz": -330
    },
    "id": "_ooIViiTTjDK",
    "outputId": "63d3e462-f51d-4f1f-bd0e-456c383733ae"
   },
   "outputs": [
    {
     "data": {
      "text/plain": [
       "1000"
      ]
     },
     "execution_count": 7,
     "metadata": {},
     "output_type": "execute_result"
    }
   ],
   "source": [
    "df.size"
   ]
  },
  {
   "cell_type": "code",
   "execution_count": 8,
   "metadata": {
    "colab": {
     "base_uri": "https://localhost:8080/"
    },
    "executionInfo": {
     "elapsed": 23,
     "status": "ok",
     "timestamp": 1673859245833,
     "user": {
      "displayName": "Tushar Patil",
      "userId": "09849807803327805394"
     },
     "user_tz": -330
    },
    "id": "OMw279w-TmhH",
    "outputId": "891d21d9-8418-4fc4-9529-9baf7adcef65"
   },
   "outputs": [
    {
     "name": "stdout",
     "output_type": "stream",
     "text": [
      "<class 'pandas.core.frame.DataFrame'>\n",
      "RangeIndex: 200 entries, 0 to 199\n",
      "Data columns (total 5 columns):\n",
      " #   Column                  Non-Null Count  Dtype \n",
      "---  ------                  --------------  ----- \n",
      " 0   CustomerID              200 non-null    int64 \n",
      " 1   Gender                  200 non-null    object\n",
      " 2   Age                     200 non-null    int64 \n",
      " 3   Annual Income (k$)      200 non-null    int64 \n",
      " 4   Spending Score (1-100)  200 non-null    int64 \n",
      "dtypes: int64(4), object(1)\n",
      "memory usage: 7.9+ KB\n"
     ]
    }
   ],
   "source": [
    "#getting information about the dataset\n",
    "df.info()"
   ]
  },
  {
   "cell_type": "code",
   "execution_count": 9,
   "metadata": {
    "executionInfo": {
     "elapsed": 21,
     "status": "ok",
     "timestamp": 1673859245833,
     "user": {
      "displayName": "Tushar Patil",
      "userId": "09849807803327805394"
     },
     "user_tz": -330
    },
    "id": "R8tbIjFPXfs7"
   },
   "outputs": [],
   "source": [
    "#from the above info method we got to know that, there are 200 instances ranging from 0 to 199.\n",
    "#The dataset have total of 5 Features which are 'CustomerID','Gender','Age','Annual Income(k$)',\n",
    "#'Spending score (1-100)'. The Features have datatype int64 and object respectively."
   ]
  },
  {
   "cell_type": "code",
   "execution_count": 10,
   "metadata": {
    "colab": {
     "base_uri": "https://localhost:8080/"
    },
    "executionInfo": {
     "elapsed": 21,
     "status": "ok",
     "timestamp": 1673859245833,
     "user": {
      "displayName": "Tushar Patil",
      "userId": "09849807803327805394"
     },
     "user_tz": -330
    },
    "id": "0efFdR4uTqKh",
    "outputId": "a653b025-f8b0-467b-86ff-1e8b03d8cb23"
   },
   "outputs": [
    {
     "data": {
      "text/plain": [
       "CustomerID                0\n",
       "Gender                    0\n",
       "Age                       0\n",
       "Annual Income (k$)        0\n",
       "Spending Score (1-100)    0\n",
       "dtype: int64"
      ]
     },
     "execution_count": 10,
     "metadata": {},
     "output_type": "execute_result"
    }
   ],
   "source": [
    "# Checking for missing values\n",
    "df.isna().sum()"
   ]
  },
  {
   "cell_type": "code",
   "execution_count": 11,
   "metadata": {
    "executionInfo": {
     "elapsed": 19,
     "status": "ok",
     "timestamp": 1673859245833,
     "user": {
      "displayName": "Tushar Patil",
      "userId": "09849807803327805394"
     },
     "user_tz": -330
    },
    "id": "rZwg-d1vYeRY"
   },
   "outputs": [],
   "source": [
    "# This 'isna' method shows that their is no null values present in the dataset\n",
    "# if their is any missing values we use data imputation method to fill the missing values."
   ]
  },
  {
   "cell_type": "code",
   "execution_count": 12,
   "metadata": {
    "executionInfo": {
     "elapsed": 20,
     "status": "ok",
     "timestamp": 1673859245834,
     "user": {
      "displayName": "Tushar Patil",
      "userId": "09849807803327805394"
     },
     "user_tz": -330
    },
    "id": "w9irNhSNW07V"
   },
   "outputs": [],
   "source": [
    "df.drop('CustomerID',axis = 1, inplace = True)"
   ]
  },
  {
   "cell_type": "code",
   "execution_count": 13,
   "metadata": {
    "executionInfo": {
     "elapsed": 19,
     "status": "ok",
     "timestamp": 1673859245834,
     "user": {
      "displayName": "Tushar Patil",
      "userId": "09849807803327805394"
     },
     "user_tz": -330
    },
    "id": "hBqm4Zt-Yq9K"
   },
   "outputs": [],
   "source": [
    "# we dropped the 'CustomerID' column becouse it is not req. for the analysis "
   ]
  },
  {
   "cell_type": "code",
   "execution_count": null,
   "metadata": {
    "colab": {
     "base_uri": "https://localhost:8080/",
     "height": 359
    },
    "executionInfo": {
     "elapsed": 19,
     "status": "ok",
     "timestamp": 1673859245835,
     "user": {
      "displayName": "Tushar Patil",
      "userId": "09849807803327805394"
     },
     "user_tz": -330
    },
    "id": "DU3LMIcxVkph",
    "outputId": "1e3ad16d-ef13-4c23-84f3-aec6f5ace03c"
   },
   "outputs": [],
   "source": [
    "sns.boxplot(df['Age'])"
   ]
  },
  {
   "cell_type": "code",
   "execution_count": null,
   "metadata": {
    "colab": {
     "base_uri": "https://localhost:8080/",
     "height": 359
    },
    "executionInfo": {
     "elapsed": 801,
     "status": "ok",
     "timestamp": 1673859246619,
     "user": {
      "displayName": "Tushar Patil",
      "userId": "09849807803327805394"
     },
     "user_tz": -330
    },
    "id": "l51BA2YjWtmK",
    "outputId": "ffd08a44-0264-4e8a-dafa-ca107ffb78c0"
   },
   "outputs": [],
   "source": [
    "sns.boxplot(df['Annual Income (k$)'])"
   ]
  },
  {
   "cell_type": "code",
   "execution_count": null,
   "metadata": {
    "colab": {
     "base_uri": "https://localhost:8080/",
     "height": 359
    },
    "executionInfo": {
     "elapsed": 23,
     "status": "ok",
     "timestamp": 1673859246621,
     "user": {
      "displayName": "Tushar Patil",
      "userId": "09849807803327805394"
     },
     "user_tz": -330
    },
    "id": "YsiWx9LsXO0i",
    "outputId": "da7c1ccb-7420-426e-e3c3-abd05136bd9d"
   },
   "outputs": [],
   "source": [
    "sns.boxplot(df['Spending Score (1-100)'])"
   ]
  },
  {
   "cell_type": "markdown",
   "metadata": {
    "id": "aBsvk1VdzP-l"
   },
   "source": [
    "The above Boxplot shows that their are no outliers present in the dataset. Means our data is normally Distributed"
   ]
  },
  {
   "cell_type": "code",
   "execution_count": null,
   "metadata": {
    "colab": {
     "base_uri": "https://localhost:8080/",
     "height": 359
    },
    "executionInfo": {
     "elapsed": 18,
     "status": "ok",
     "timestamp": 1673859246622,
     "user": {
      "displayName": "Tushar Patil",
      "userId": "09849807803327805394"
     },
     "user_tz": -330
    },
    "id": "-T7iufI5xAaS",
    "outputId": "8b5b8d07-d76f-4281-d3ba-5044ac5e1d2c"
   },
   "outputs": [],
   "source": [
    "sns.distplot(df['Annual Income (k$)'])"
   ]
  },
  {
   "cell_type": "code",
   "execution_count": null,
   "metadata": {},
   "outputs": [],
   "source": [
    "my_report = sv.analyze(df)\n",
    "my_report.show_html()"
   ]
  },
  {
   "cell_type": "code",
   "execution_count": null,
   "metadata": {
    "colab": {
     "base_uri": "https://localhost:8080/",
     "height": 363
    },
    "executionInfo": {
     "elapsed": 737,
     "status": "ok",
     "timestamp": 1673859247344,
     "user": {
      "displayName": "Tushar Patil",
      "userId": "09849807803327805394"
     },
     "user_tz": -330
    },
    "id": "IM1-2uMuxQGn",
    "outputId": "4190a91b-ddce-4e53-9f43-f6971b248606"
   },
   "outputs": [],
   "source": [
    "sns.distplot(df['Spending Score (1-100)'])"
   ]
  },
  {
   "cell_type": "code",
   "execution_count": null,
   "metadata": {
    "colab": {
     "base_uri": "https://localhost:8080/",
     "height": 401
    },
    "executionInfo": {
     "elapsed": 1036,
     "status": "ok",
     "timestamp": 1673859248372,
     "user": {
      "displayName": "Tushar Patil",
      "userId": "09849807803327805394"
     },
     "user_tz": -330
    },
    "id": "-eZc-TJkhi7J",
    "outputId": "8aed5469-d0a9-401c-9329-fc0729786c82"
   },
   "outputs": [],
   "source": [
    "plt.figure(figsize=(18,12))\n",
    "sns.relplot(x = 'Annual Income (k$)',y = 'Spending Score (1-100)', data = df,)"
   ]
  },
  {
   "cell_type": "markdown",
   "metadata": {
    "id": "5WFbXyxLzet2"
   },
   "source": [
    "Above plot shows that the scattedness of the points in a cluster where the x axis if for 'Annual Income (k$)' and y axis is for 'Spending Score (1-100)'"
   ]
  },
  {
   "cell_type": "code",
   "execution_count": null,
   "metadata": {
    "id": "imymiTWxz9mQ"
   },
   "outputs": [],
   "source": [
    "# Slecting Variables for training purpose"
   ]
  },
  {
   "cell_type": "code",
   "execution_count": null,
   "metadata": {
    "executionInfo": {
     "elapsed": 13,
     "status": "ok",
     "timestamp": 1673859248373,
     "user": {
      "displayName": "Tushar Patil",
      "userId": "09849807803327805394"
     },
     "user_tz": -330
    },
    "id": "qASfqykdXY6t"
   },
   "outputs": [],
   "source": [
    "X = df.iloc[:,[2,3]].values"
   ]
  },
  {
   "cell_type": "code",
   "execution_count": null,
   "metadata": {
    "colab": {
     "base_uri": "https://localhost:8080/"
    },
    "executionInfo": {
     "elapsed": 14,
     "status": "ok",
     "timestamp": 1673859248374,
     "user": {
      "displayName": "Tushar Patil",
      "userId": "09849807803327805394"
     },
     "user_tz": -330
    },
    "id": "EC5aLkZFlbut",
    "outputId": "d35b3fd9-60d0-4c39-e5e2-51bd845ffc59"
   },
   "outputs": [],
   "source": [
    "print(X)"
   ]
  },
  {
   "cell_type": "markdown",
   "metadata": {
    "id": "Nu7XyA_S0MYw"
   },
   "source": [
    "Choosing the right number of Clusters"
   ]
  },
  {
   "cell_type": "code",
   "execution_count": null,
   "metadata": {
    "executionInfo": {
     "elapsed": 12,
     "status": "ok",
     "timestamp": 1673859248374,
     "user": {
      "displayName": "Tushar Patil",
      "userId": "09849807803327805394"
     },
     "user_tz": -330
    },
    "id": "guVKBKdPa422"
   },
   "outputs": [],
   "source": [
    "# WCSS - Withi Clusters sum squares"
   ]
  },
  {
   "cell_type": "code",
   "execution_count": null,
   "metadata": {
    "executionInfo": {
     "elapsed": 13,
     "status": "ok",
     "timestamp": 1673859248375,
     "user": {
      "displayName": "Tushar Patil",
      "userId": "09849807803327805394"
     },
     "user_tz": -330
    },
    "id": "6seve-rKg7BX"
   },
   "outputs": [],
   "source": [
    "wcss = []\n",
    "for i in range(1,11):\n",
    "  kmeans = KMeans(n_clusters = i, init = 'k-means++')\n",
    "  kmeans.fit(X)\n",
    "  wcss.append(kmeans.inertia_)"
   ]
  },
  {
   "cell_type": "code",
   "execution_count": null,
   "metadata": {
    "colab": {
     "base_uri": "https://localhost:8080/",
     "height": 301
    },
    "executionInfo": {
     "elapsed": 12,
     "status": "ok",
     "timestamp": 1673859248375,
     "user": {
      "displayName": "Tushar Patil",
      "userId": "09849807803327805394"
     },
     "user_tz": -330
    },
    "id": "zs3pX13Lrjy_",
    "outputId": "fe01a410-3a70-4c93-e7a2-517eb61512ef"
   },
   "outputs": [],
   "source": [
    "sns.set()\n",
    "plt.plot(range(1,11),wcss)\n",
    "plt.title('Elbow point graph')\n",
    "plt.xlabel('number of clusters')\n",
    "plt.ylabel('wcss')\n",
    "plt.show()"
   ]
  },
  {
   "cell_type": "markdown",
   "metadata": {
    "id": "4eFswixhyHdt"
   },
   "source": [
    "Minimum number of clusters = 5"
   ]
  },
  {
   "cell_type": "code",
   "execution_count": null,
   "metadata": {
    "colab": {
     "base_uri": "https://localhost:8080/"
    },
    "executionInfo": {
     "elapsed": 13,
     "status": "ok",
     "timestamp": 1673859248376,
     "user": {
      "displayName": "Tushar Patil",
      "userId": "09849807803327805394"
     },
     "user_tz": -330
    },
    "id": "VEfcHTRbyG_b",
    "outputId": "245e77e2-5d8a-4e39-aa36-3bd631b29ef6"
   },
   "outputs": [],
   "source": [
    "kmeans = KMeans(n_clusters=5, init='k-means++')\n",
    "\n",
    "y = kmeans.fit_predict(X)\n",
    "print(y)"
   ]
  },
  {
   "cell_type": "code",
   "execution_count": null,
   "metadata": {
    "colab": {
     "base_uri": "https://localhost:8080/",
     "height": 518
    },
    "executionInfo": {
     "elapsed": 698,
     "status": "ok",
     "timestamp": 1673859249066,
     "user": {
      "displayName": "Tushar Patil",
      "userId": "09849807803327805394"
     },
     "user_tz": -330
    },
    "id": "6wH1qfrptD6f",
    "outputId": "3e80dc46-8b65-42fb-dbe6-02eaabbc6d4f"
   },
   "outputs": [],
   "source": [
    "plt.figure(figsize =(12,8))\n",
    "plt.scatter(X[y==0,0],X[y==0,1],s = 50,label = 'cluster1',color = 'green')\n",
    "plt.scatter(X[y==1,0],X[y==1,1],s = 50,label = 'cluster2',color = 'blue')\n",
    "plt.scatter(X[y==2,0],X[y==2,1],s = 50,label = 'cluster3',color = 'red')\n",
    "plt.scatter(X[y==3,0],X[y==3,1],s = 50,label = 'cluster4',color = 'yellow')\n",
    "plt.scatter(X[y==4,0],X[y==4,1],s = 50,label = 'cluster5',color = 'purple')\n",
    "\n",
    "plt.scatter(kmeans.cluster_centers_[:,0],kmeans.cluster_centers_[:,1],s = 100,label = 'centroid',color = 'cyan')\n",
    "plt.title('customer group')\n",
    "plt.xlabel('Annual Income')\n",
    "plt.ylabel('spending Score')\n",
    "plt.show()"
   ]
  },
  {
   "cell_type": "markdown",
   "metadata": {
    "id": "qry7WmOL0UJ7"
   },
   "source": [
    "From the above graph we can understand how peoples spend their income on the scale of (1-100). through which we can make predictions on new data that what will be the spending score of a person if his income will come"
   ]
  },
  {
   "cell_type": "code",
   "execution_count": null,
   "metadata": {
    "id": "tfFCfrkK1D76"
   },
   "outputs": [],
   "source": [
    "#Prediction for Age and Income"
   ]
  },
  {
   "cell_type": "code",
   "execution_count": null,
   "metadata": {
    "colab": {
     "base_uri": "https://localhost:8080/"
    },
    "executionInfo": {
     "elapsed": 23,
     "status": "ok",
     "timestamp": 1673859249067,
     "user": {
      "displayName": "Tushar Patil",
      "userId": "09849807803327805394"
     },
     "user_tz": -330
    },
    "id": "xhL9wKXI_CNE",
    "outputId": "280e0a10-c5ca-4de9-deed-a5103ebc0dac"
   },
   "outputs": [],
   "source": [
    "X1 = df.iloc[:,[1,2]].values\n",
    "print(X1)"
   ]
  },
  {
   "cell_type": "code",
   "execution_count": null,
   "metadata": {
    "colab": {
     "base_uri": "https://localhost:8080/",
     "height": 206
    },
    "executionInfo": {
     "elapsed": 22,
     "status": "ok",
     "timestamp": 1673859249070,
     "user": {
      "displayName": "Tushar Patil",
      "userId": "09849807803327805394"
     },
     "user_tz": -330
    },
    "id": "w7voCGkMIYYk",
    "outputId": "7359ecad-5fea-463a-d024-912a6f070cd2"
   },
   "outputs": [],
   "source": [
    "df.head()"
   ]
  },
  {
   "cell_type": "markdown",
   "metadata": {
    "id": "0qYc9p8sI-_J"
   },
   "source": [
    "WCSS - Within Clusters sum squares"
   ]
  },
  {
   "cell_type": "code",
   "execution_count": null,
   "metadata": {
    "executionInfo": {
     "elapsed": 19,
     "status": "ok",
     "timestamp": 1673859249073,
     "user": {
      "displayName": "Tushar Patil",
      "userId": "09849807803327805394"
     },
     "user_tz": -330
    },
    "id": "9hHiW91DIruq"
   },
   "outputs": [],
   "source": [
    "wcss1=[]\n",
    "\n",
    "for i in range(1,11):\n",
    "  km = KMeans(n_clusters = i, init ='k-means++')\n",
    "  \n",
    "  km.fit(X1)\n",
    "\n",
    "  wcss1.append(km.inertia_)"
   ]
  },
  {
   "cell_type": "code",
   "execution_count": null,
   "metadata": {
    "colab": {
     "base_uri": "https://localhost:8080/"
    },
    "executionInfo": {
     "elapsed": 20,
     "status": "ok",
     "timestamp": 1673859249074,
     "user": {
      "displayName": "Tushar Patil",
      "userId": "09849807803327805394"
     },
     "user_tz": -330
    },
    "id": "s6JYd6zvsvns",
    "outputId": "45dfad04-1ccb-414c-e806-6ad521e2a6e9"
   },
   "outputs": [],
   "source": [
    "print(wcss1)"
   ]
  },
  {
   "cell_type": "code",
   "execution_count": null,
   "metadata": {
    "colab": {
     "base_uri": "https://localhost:8080/",
     "height": 301
    },
    "executionInfo": {
     "elapsed": 1513,
     "status": "ok",
     "timestamp": 1673859250573,
     "user": {
      "displayName": "Tushar Patil",
      "userId": "09849807803327805394"
     },
     "user_tz": -330
    },
    "id": "UEKUEomBd4Gz",
    "outputId": "f8355257-bc5f-42ad-9c9f-ebb71544d001"
   },
   "outputs": [],
   "source": [
    "sns.set()\n",
    "plt.grid()\n",
    "plt.plot(range(1,11),wcss1,linewidth=2,marker = 8,color = 'red')\n",
    "plt.title('Elbow point graph')\n",
    "plt.xlabel('number of clusters')\n",
    "plt.ylabel('wcss1')\n",
    "plt.show()"
   ]
  },
  {
   "cell_type": "code",
   "execution_count": null,
   "metadata": {
    "colab": {
     "base_uri": "https://localhost:8080/"
    },
    "executionInfo": {
     "elapsed": 23,
     "status": "ok",
     "timestamp": 1673859250574,
     "user": {
      "displayName": "Tushar Patil",
      "userId": "09849807803327805394"
     },
     "user_tz": -330
    },
    "id": "90HEBFn_ecUY",
    "outputId": "9ad69a79-8bdc-4e4e-f8bc-bc0f78db2b09"
   },
   "outputs": [],
   "source": [
    "kme = KMeans(n_clusters=4, init='k-means++')\n",
    "\n",
    "y1 = kme.fit_predict(X1)\n",
    "print(y1)"
   ]
  },
  {
   "cell_type": "code",
   "execution_count": null,
   "metadata": {
    "colab": {
     "base_uri": "https://localhost:8080/"
    },
    "executionInfo": {
     "elapsed": 21,
     "status": "ok",
     "timestamp": 1673859250574,
     "user": {
      "displayName": "Tushar Patil",
      "userId": "09849807803327805394"
     },
     "user_tz": -330
    },
    "id": "pxYOFTnOw9mo",
    "outputId": "46cde3c0-e382-4444-ba45-f31861881923"
   },
   "outputs": [],
   "source": [
    "print(kme.cluster_centers_)"
   ]
  },
  {
   "cell_type": "code",
   "execution_count": null,
   "metadata": {
    "colab": {
     "base_uri": "https://localhost:8080/",
     "height": 518
    },
    "executionInfo": {
     "elapsed": 19,
     "status": "ok",
     "timestamp": 1673859250575,
     "user": {
      "displayName": "Tushar Patil",
      "userId": "09849807803327805394"
     },
     "user_tz": -330
    },
    "id": "0humQlyKei4d",
    "outputId": "d1ce893e-404d-42c0-f4e8-8f54f006d18a"
   },
   "outputs": [],
   "source": [
    "plt.figure(figsize =(12,8))\n",
    "plt.scatter(X1[y1==0,0],X1[y1==0,1],s = 50,label = 'cluster1',color = 'green')\n",
    "plt.scatter(X1[y1==1,0],X1[y1==1,1],s = 50,label = 'cluster2',color = 'blue')\n",
    "plt.scatter(X1[y1==2,0],X1[y1==2,1],s = 50,label = 'cluster3',color = 'red')\n",
    "plt.scatter(X1[y1==3,0],X1[y1==3,1],s = 50,label = 'cluster4',color = 'yellow')\n",
    "\n",
    "plt.scatter(X1[:,0],X1[:,1],c = kme.labels_,cmap = 'rainbow')\n",
    "plt.scatter(kme.cluster_centers_[:,0],kme.cluster_centers_[:,1],s = 100,label = 'centroid',color = 'black')\n",
    "plt.title('customer group')\n",
    "plt.xlabel('Age')\n",
    "plt.ylabel('Annual Income')\n",
    "plt.show()"
   ]
  },
  {
   "cell_type": "code",
   "execution_count": null,
   "metadata": {
    "executionInfo": {
     "elapsed": 19,
     "status": "ok",
     "timestamp": 1673859250576,
     "user": {
      "displayName": "Tushar Patil",
      "userId": "09849807803327805394"
     },
     "user_tz": -330
    },
    "id": "XnohWZyofI5m"
   },
   "outputs": [],
   "source": []
  }
 ],
 "metadata": {
  "colab": {
   "authorship_tag": "ABX9TyOAgI4FVIJnTIh9MgE/Dh1/",
   "provenance": []
  },
  "kernelspec": {
   "display_name": "Python 3 (ipykernel)",
   "language": "python",
   "name": "python3"
  },
  "language_info": {
   "codemirror_mode": {
    "name": "ipython",
    "version": 3
   },
   "file_extension": ".py",
   "mimetype": "text/x-python",
   "name": "python",
   "nbconvert_exporter": "python",
   "pygments_lexer": "ipython3",
   "version": "3.9.12"
  }
 },
 "nbformat": 4,
 "nbformat_minor": 4
}
